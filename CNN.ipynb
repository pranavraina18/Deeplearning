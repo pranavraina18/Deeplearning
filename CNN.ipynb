{
  "cells": [
    {
      "cell_type": "markdown",
      "metadata": {
        "id": "I74mbXc9LE-Y"
      },
      "source": [
        "# To run this Code you will need to store the zip file containing the image data on your Google Drive"
      ]
    },
    {
      "cell_type": "code",
      "execution_count": 1,
      "metadata": {
        "colab": {
          "base_uri": "https://localhost:8080/"
        },
        "id": "At1nh2HqLEGB",
        "outputId": "6a712788-b206-4fa5-9c56-2ca7d9c58268"
      },
      "outputs": [
        {
          "name": "stdout",
          "output_type": "stream",
          "text": [
            "Mounted at /content/gdrive\n"
          ]
        }
      ],
      "source": [
        "from google.colab import drive\n",
        "drive.mount('/content/gdrive')"
      ]
    },
    {
      "cell_type": "markdown",
      "metadata": {
        "id": "oFzFT6NJJcXP"
      },
      "source": [
        "### Change the Below Path as Needed , Currently the Zip file is in a Folder called \"Colab Notebooks\" inside google drive"
      ]
    },
    {
      "cell_type": "code",
      "execution_count": 2,
      "metadata": {
        "colab": {
          "base_uri": "https://localhost:8080/"
        },
        "id": "UAo2ZMupMQQV",
        "outputId": "acf48bad-6dc5-43f8-ee77-54da14e31edb"
      },
      "outputs": [
        {
          "name": "stdout",
          "output_type": "stream",
          "text": [
            "Assignment2.ipynb  earth_data.zip\t\tTinyImageNet.zip\n",
            "Assignment.ipynb   Tiny_ImageNet_Example.ipynb\tweek_8_9.ipynb\n"
          ]
        }
      ],
      "source": [
        "# check to make sure your data is at the correct location\n",
        "!ls /content/gdrive/'My Drive'/'Colab Notebooks'/"
      ]
    },
    {
      "cell_type": "markdown",
      "metadata": {
        "id": "bLOYjZp9KLJy"
      },
      "source": [
        "### UnZip Your Data File"
      ]
    },
    {
      "cell_type": "code",
      "execution_count": 3,
      "metadata": {
        "colab": {
          "base_uri": "https://localhost:8080/"
        },
        "id": "UJClP5S-NKnl",
        "outputId": "ad365b9f-b3d5-4313-d486-e027d9604e97"
      },
      "outputs": [
        {
          "name": "stdout",
          "output_type": "stream",
          "text": [
            "Archive:  /content/gdrive/My Drive/Colab Notebooks/earth_data.zip\n",
            "  inflating: /content/earth_data.h5  \n"
          ]
        }
      ],
      "source": [
        "!unzip \"/content/gdrive/My Drive/Colab Notebooks/earth_data.zip\" -d \"/content/\""
      ]
    },
    {
      "cell_type": "markdown",
      "metadata": {
        "id": "D36ik36_KbG1"
      },
      "source": [
        "### Check the Contents of the Location to make sure your File has been Unzipped"
      ]
    },
    {
      "cell_type": "code",
      "execution_count": 4,
      "metadata": {
        "colab": {
          "base_uri": "https://localhost:8080/"
        },
        "id": "IIxW46urOTQW",
        "outputId": "eb5cb6fc-6342-4dbe-a553-ee85d9c7946f"
      },
      "outputs": [
        {
          "name": "stdout",
          "output_type": "stream",
          "text": [
            "earth_data.h5  gdrive  sample_data\n"
          ]
        }
      ],
      "source": [
        "!ls /content/"
      ]
    },
    {
      "cell_type": "markdown",
      "metadata": {
        "id": "sz-vQjwPIoIT"
      },
      "source": [
        "# Loading And Normalization"
      ]
    },
    {
      "cell_type": "code",
      "execution_count": 3,
      "metadata": {
        "colab": {
          "base_uri": "https://localhost:8080/"
        },
        "id": "iWK8F6KMLSt2",
        "outputId": "c829bd72-3d0c-4977-e34c-05033b6922e5"
      },
      "outputs": [
        {
          "name": "stdout",
          "output_type": "stream",
          "text": [
            "Shape of Training Data: (19200, 64, 64, 3)\n",
            "Shape of Validation Data: (4800, 64, 64, 3)\n",
            "Number of Instances of Training Data: 19200\n",
            "Number of Instances of Validation Data: 4800\n",
            "Shape of Input Data Shape: (64, 64, 3)\n",
            "Number of Classes: 9\n"
          ]
        }
      ],
      "source": [
        "import numpy as np\n",
        "import h5py\n",
        "\n",
        "def loadDataH5():\n",
        "  with h5py.File('earth_data.h5','r') as hf:\n",
        "    trainX = np.array(hf.get('trainX'))\n",
        "    trainY = np.array(hf.get('trainY'))\n",
        "    valX = np.array(hf.get('valX'))\n",
        "    valY = np.array(hf.get('valY'))\n",
        "\n",
        "  return trainX, trainY, valX, valY\n",
        "\n",
        "trainX, trainY, valX, valY = loadDataH5()\n",
        "\n",
        "# normalize\n",
        "trainX = trainX.astype('float32')/255.0\n",
        "valX = valX.astype('float32')/255.0\n",
        "\n",
        "print(f\"Shape of Training Data: {trainX.shape}\")\n",
        "print(f\"Shape of Validation Data: {valX.shape}\")\n",
        "print(f\"Number of Instances of Training Data: {trainX.shape[0]}\")\n",
        "print(f\"Number of Instances of Validation Data: {valX.shape[0]}\")\n",
        "# input shape\n",
        "shape_input = trainX.shape[1:]\n",
        "print(f\"Shape of Input Data Shape: {shape_input}\")\n",
        "\n",
        "no_of_classes = len(np.unique(trainY))\n",
        "print(f\"Number of Classes: {no_of_classes}\")"
      ]
    },
    {
      "cell_type": "markdown",
      "metadata": {
        "id": "OSRNL_l4IL61"
      },
      "source": [
        "# Part 1: Import CNN Model and Use it for Feature Extraction"
      ]
    },
    {
      "cell_type": "markdown",
      "metadata": {
        "id": "Hu2h-FTFOSs2"
      },
      "source": [
        "### Create CNN"
      ]
    },
    {
      "cell_type": "code",
      "execution_count": null,
      "metadata": {
        "id": "lqJM-S9QORAh"
      },
      "outputs": [],
      "source": [
        "import tensorflow as tf\n",
        "from tensorflow.keras.applications import VGG16, ResNet50\n",
        "\n",
        "# Define the Models and Take only Top Layers to act as Feature extractor\n",
        "VGG16_Model = VGG16(include_top=False,weights=\"imagenet\",input_shape= shape_input,classes=no_of_classes)\n",
        "\n",
        "ResNet50_Model = ResNet50(include_top=False,weights=\"imagenet\",input_shape= shape_input,classes=no_of_classes)\n",
        "\n",
        "initialModel = tf.keras.applications.VGG16(weights='imagenet', include_top=False, input_shape=shape_input)\n",
        "VGG16_Model_Layer4 = tf.keras.Model(inputs=initialModel.input, outputs=initialModel.get_layer('block4_conv3').output)\n"
      ]
    },
    {
      "cell_type": "markdown",
      "metadata": {
        "id": "RqgipVaEOk2g"
      },
      "source": [
        "### Feature Extraction"
      ]
    },
    {
      "cell_type": "code",
      "execution_count": 5,
      "metadata": {
        "id": "VEsEbQIz7tDo"
      },
      "outputs": [],
      "source": [
        "# Define a Function that retuns training and validation features based on model\n",
        "def feature_extract(model_type):\n",
        "  featuresTrain = model_type.predict(trainX)\n",
        "  featuresTrain = featuresTrain.reshape(featuresTrain.shape[0], -1)\n",
        "  featuresVal = model_type.predict(valX)\n",
        "  featuresVal = featuresVal.reshape(featuresVal.shape[0], -1)\n",
        "  return featuresTrain, featuresVal\n"
      ]
    },
    {
      "cell_type": "markdown",
      "metadata": {
        "id": "Qdat9_K8LMUn"
      },
      "source": [
        "### Import Machine Learning Algorithmn for Training and Validation\n"
      ]
    },
    {
      "cell_type": "code",
      "execution_count": 6,
      "metadata": {
        "id": "pMZdaLY1HS9-"
      },
      "outputs": [],
      "source": [
        "# ML Modles\n",
        "from sklearn.neighbors import KNeighborsClassifier\n",
        "from sklearn.ensemble import RandomForestClassifier\n",
        "\n",
        "#Functions \n",
        "from sklearn.metrics import accuracy_score\n",
        "\n",
        "classifiers = {\n",
        "    \"Random Forest\": RandomForestClassifier(),\n",
        "    \"Nearest Neighbours\": KNeighborsClassifier()\n",
        "}\n",
        " "
      ]
    },
    {
      "cell_type": "markdown",
      "metadata": {
        "id": "LucZRRE2suq5"
      },
      "source": [
        "## VGG16_All_Top_layers"
      ]
    },
    {
      "cell_type": "code",
      "execution_count": 10,
      "metadata": {
        "colab": {
          "base_uri": "https://localhost:8080/"
        },
        "id": "ENn6PmPEspg9",
        "outputId": "5160a19c-804a-48ce-8824-89e872ba9e23"
      },
      "outputs": [
        {
          "name": "stdout",
          "output_type": "stream",
          "text": [
            "600/600 [==============================] - 14s 12ms/step\n",
            "150/150 [==============================] - 2s 12ms/step\n",
            "Training Data Shape After Feature Extraction Using VGG16_All_Top_layers: (19200, 2048)\n",
            "Validation Data Shape After Feature Extraction Using VGG16_All_Top_layers: (4800, 2048)\n",
            "Classifier: Random Forest, Accuracy_score: 0.817\n",
            "Classifier: Nearest Neighbours, Accuracy_score: 0.777\n"
          ]
        }
      ],
      "source": [
        "# VGG16_All_Top_layers\n",
        "featuresTrain , featuresVal = feature_extract(model_type = VGG16_Model )  \n",
        "print(f\"Training Data Shape After Feature Extraction Using VGG16_All_Top_layers: {featuresTrain.shape}\")\n",
        "print(f\"Validation Data Shape After Feature Extraction Using VGG16_All_Top_layers: {featuresVal.shape}\")\n",
        "for name_ , func in classifiers.items():  \n",
        "  func.fit(featuresTrain , trainY)\n",
        "  y_prediction = func.predict(featuresVal)  \n",
        "  print(f\"Classifier: {name_}, Accuracy_score: {accuracy_score(valY, y_prediction):.3f}\")\n"
      ]
    },
    {
      "cell_type": "markdown",
      "metadata": {
        "id": "Bu_XhqK2s3M9"
      },
      "source": [
        "## ResNet50_Model_All_Top_layers"
      ]
    },
    {
      "cell_type": "code",
      "execution_count": 11,
      "metadata": {
        "colab": {
          "base_uri": "https://localhost:8080/"
        },
        "id": "7bAxB6M8s3mF",
        "outputId": "c475083d-3591-433f-e1c4-de93634a3881"
      },
      "outputs": [
        {
          "name": "stdout",
          "output_type": "stream",
          "text": [
            "600/600 [==============================] - 8s 11ms/step\n",
            "150/150 [==============================] - 2s 11ms/step\n",
            "Training Data Shape After Feature Extraction Using ResNet50_Model_All_Top_layers: (19200, 8192)\n",
            "Validation Data Shape After Feature Extraction Using ResNet50_Model_All_Top_layers: (4800, 8192)\n",
            "Classifier: Random Forest, Accuracy_score: 0.591\n",
            "Classifier: Nearest Neighbours, Accuracy_score: 0.542\n"
          ]
        }
      ],
      "source": [
        "# ResNet50_All_Top_layers\n",
        "featuresTrain , featuresVal = feature_extract(model_type = ResNet50_Model )  \n",
        "print(f\"Training Data Shape After Feature Extraction Using ResNet50_All_Top_layers: {featuresTrain.shape}\")\n",
        "print(f\"Validation Data Shape After Feature Extraction Using ResNet50_All_Top_layers: {featuresVal.shape}\")\n",
        "for name_ , func in classifiers.items():  \n",
        "  func.fit(featuresTrain , trainY)\n",
        "  y_prediction = func.predict(featuresVal)  \n",
        "  print(f\"Classifier: {name_}, Accuracy_score: {accuracy_score(valY, y_prediction):.3f}\")\n"
      ]
    },
    {
      "cell_type": "markdown",
      "metadata": {
        "id": "QzVDTPw4tAqe"
      },
      "source": [
        "## VGG16_Remove_layer_5"
      ]
    },
    {
      "cell_type": "code",
      "execution_count": 7,
      "metadata": {
        "colab": {
          "base_uri": "https://localhost:8080/"
        },
        "id": "FZ-6xEgFtA4I",
        "outputId": "0f2cb64b-2244-43af-b3e1-5500aa294ca9"
      },
      "outputs": [
        {
          "name": "stdout",
          "output_type": "stream",
          "text": [
            "600/600 [==============================] - 13s 9ms/step\n",
            "150/150 [==============================] - 1s 10ms/step\n",
            "Training Data Shape After Feature Extraction Using VGG16_Remove_layer_5: (19200, 32768)\n",
            "Validation Data Shape After Feature Extraction Using VGG16_Remove_layer_5: (4800, 32768)\n",
            "Classifier: Random Forest, Accuracy_score: 0.831\n",
            "Classifier: Nearest Neighbours, Accuracy_score: 0.620\n"
          ]
        }
      ],
      "source": [
        "# VGG16_Remove_layer_5\n",
        "featuresTrain , featuresVal = feature_extract(model_type = VGG16_Model_Layer4 )  \n",
        "print(f\"Training Data Shape After Feature Extraction Using VGG16_Remove_layer_5: {featuresTrain.shape}\")\n",
        "print(f\"Validation Data Shape After Feature Extraction Using VGG16_Remove_layer_5: {featuresVal.shape}\")\n",
        "for name_ , func in classifiers.items():  \n",
        "  func.fit(featuresTrain , trainY)\n",
        "  y_prediction = func.predict(featuresVal)  \n",
        "  print(f\"Classifier: {name_}, Accuracy_score: {accuracy_score(valY, y_prediction):.3f}\")\n"
      ]
    },
    {
      "cell_type": "markdown",
      "metadata": {
        "id": "clW1-I_B5_-U"
      },
      "source": [
        "# Part 2 : Fine Tuning as a Methord of Transfer Learning"
      ]
    },
    {
      "cell_type": "markdown",
      "metadata": {
        "id": "SxTAO0Gu7fjT"
      },
      "source": [
        "### Introduce data augmentation with ImageDataGenerator"
      ]
    },
    {
      "cell_type": "code",
      "execution_count": null,
      "metadata": {
        "id": "dJ0XtrIS7bsW"
      },
      "outputs": [],
      "source": [
        "trainDataGenerator = tf.keras.preprocessing.image.ImageDataGenerator(\n",
        "  shear_range=0.2,\n",
        "  zoom_range=0.2,\n",
        "  rotation_range=30,\n",
        "  horizontal_flip=True)\n",
        "\n",
        "train_generator = trainDataGenerator.flow(trainX, trainY, batch_size=16)"
      ]
    },
    {
      "cell_type": "markdown",
      "metadata": {
        "id": "AJ7EYB-68IW-"
      },
      "source": [
        "### Plot Accuracy and Loss \n"
      ]
    },
    {
      "cell_type": "code",
      "execution_count": null,
      "metadata": {
        "id": "Ruuec8ii77vK"
      },
      "outputs": [],
      "source": [
        "import matplotlib.pyplot as plt\n",
        "\n",
        "def plot_results(H, NUM_EPOCHS):\n",
        "    \n",
        "    plt.style.use(\"ggplot\")\n",
        "    plt.figure()\n",
        "    plt.plot(np.arange(0, NUM_EPOCHS), H.history[\"loss\"], label=\"train_loss\")\n",
        "    plt.plot(np.arange(0, NUM_EPOCHS), H.history[\"val_loss\"], label=\"val_loss\")\n",
        "    plt.plot(np.arange(0, NUM_EPOCHS), H.history[\"accuracy\"], label=\"train_acc\")\n",
        "    plt.plot(np.arange(0, NUM_EPOCHS), H.history[\"val_accuracy\"], label=\"val_acc\")\n",
        "    plt.title(\"Training Loss and Accuracy\")\n",
        "    plt.xlabel(\"Epoch #\")\n",
        "    plt.ylabel(\"Loss/Accuracy\")\n",
        "    plt.legend()\n",
        "    plt.show()"
      ]
    },
    {
      "cell_type": "markdown",
      "metadata": {
        "id": "o1VnmEngan-s"
      },
      "source": [
        "## Initialize "
      ]
    },
    {
      "cell_type": "code",
      "execution_count": null,
      "metadata": {
        "id": "yRuV3IbPakbj"
      },
      "outputs": [],
      "source": [
        "NUM_EPOCHS = 50\n",
        "batchSize = 32"
      ]
    },
    {
      "cell_type": "markdown",
      "metadata": {
        "id": "lCrRqMwGK8bv"
      },
      "source": [
        "## Model 1"
      ]
    },
    {
      "cell_type": "code",
      "execution_count": null,
      "metadata": {
        "colab": {
          "base_uri": "https://localhost:8080/",
          "height": 1000
        },
        "id": "vQ3FjHzg5_er",
        "outputId": "058e9455-65b8-4a46-e20e-52ca6b1371e5"
      },
      "outputs": [
        {
          "name": "stdout",
          "output_type": "stream",
          "text": [
            "Model: \"vgg16\"\n",
            "_________________________________________________________________\n",
            " Layer (type)                Output Shape              Param #   \n",
            "=================================================================\n",
            " input_2 (InputLayer)        [(None, 64, 64, 3)]       0         \n",
            "                                                                 \n",
            " block1_conv1 (Conv2D)       (None, 64, 64, 64)        1792      \n",
            "                                                                 \n",
            " block1_conv2 (Conv2D)       (None, 64, 64, 64)        36928     \n",
            "                                                                 \n",
            " block1_pool (MaxPooling2D)  (None, 32, 32, 64)        0         \n",
            "                                                                 \n",
            " block2_conv1 (Conv2D)       (None, 32, 32, 128)       73856     \n",
            "                                                                 \n",
            " block2_conv2 (Conv2D)       (None, 32, 32, 128)       147584    \n",
            "                                                                 \n",
            " block2_pool (MaxPooling2D)  (None, 16, 16, 128)       0         \n",
            "                                                                 \n",
            " block3_conv1 (Conv2D)       (None, 16, 16, 256)       295168    \n",
            "                                                                 \n",
            " block3_conv2 (Conv2D)       (None, 16, 16, 256)       590080    \n",
            "                                                                 \n",
            " block3_conv3 (Conv2D)       (None, 16, 16, 256)       590080    \n",
            "                                                                 \n",
            " block3_pool (MaxPooling2D)  (None, 8, 8, 256)         0         \n",
            "                                                                 \n",
            " block4_conv1 (Conv2D)       (None, 8, 8, 512)         1180160   \n",
            "                                                                 \n",
            " block4_conv2 (Conv2D)       (None, 8, 8, 512)         2359808   \n",
            "                                                                 \n",
            " block4_conv3 (Conv2D)       (None, 8, 8, 512)         2359808   \n",
            "                                                                 \n",
            " block4_pool (MaxPooling2D)  (None, 4, 4, 512)         0         \n",
            "                                                                 \n",
            " block5_conv1 (Conv2D)       (None, 4, 4, 512)         2359808   \n",
            "                                                                 \n",
            " block5_conv2 (Conv2D)       (None, 4, 4, 512)         2359808   \n",
            "                                                                 \n",
            " block5_conv3 (Conv2D)       (None, 4, 4, 512)         2359808   \n",
            "                                                                 \n",
            " block5_pool (MaxPooling2D)  (None, 2, 2, 512)         0         \n",
            "                                                                 \n",
            "=================================================================\n",
            "Total params: 14,714,688\n",
            "Trainable params: 0\n",
            "Non-trainable params: 14,714,688\n",
            "_________________________________________________________________\n",
            "None\n",
            "Model: \"sequential_13\"\n",
            "_________________________________________________________________\n",
            " Layer (type)                Output Shape              Param #   \n",
            "=================================================================\n",
            " vgg16 (Functional)          (None, 2, 2, 512)         14714688  \n",
            "                                                                 \n",
            " flatten_13 (Flatten)        (None, 2048)              0         \n",
            "                                                                 \n",
            " dense_26 (Dense)            (None, 256)               524544    \n",
            "                                                                 \n",
            " dropout_13 (Dropout)        (None, 256)               0         \n",
            "                                                                 \n",
            " dense_27 (Dense)            (None, 9)                 2313      \n",
            "                                                                 \n",
            "=================================================================\n",
            "Total params: 15,241,545\n",
            "Trainable params: 526,857\n",
            "Non-trainable params: 14,714,688\n",
            "_________________________________________________________________\n",
            "None\n",
            "Epoch 1/50\n",
            "599/600 [============================>.] - ETA: 0s - loss: 1.9069 - accuracy: 0.3276\n",
            "Epoch 1: val_loss improved from inf to 1.51083, saving model to checkpointed_model1_Task2.hdf5\n",
            "600/600 [==============================] - 23s 33ms/step - loss: 1.9061 - accuracy: 0.3280 - val_loss: 1.5108 - val_accuracy: 0.5515\n",
            "Epoch 2/50\n",
            "600/600 [==============================] - ETA: 0s - loss: 1.4367 - accuracy: 0.5238\n",
            "Epoch 2: val_loss improved from 1.51083 to 1.22757, saving model to checkpointed_model1_Task2.hdf5\n",
            "600/600 [==============================] - 18s 30ms/step - loss: 1.4367 - accuracy: 0.5238 - val_loss: 1.2276 - val_accuracy: 0.6062\n",
            "Epoch 3/50\n",
            "598/600 [============================>.] - ETA: 0s - loss: 1.2296 - accuracy: 0.5859\n",
            "Epoch 3: val_loss improved from 1.22757 to 1.07078, saving model to checkpointed_model1_Task2.hdf5\n",
            "600/600 [==============================] - 19s 32ms/step - loss: 1.2303 - accuracy: 0.5854 - val_loss: 1.0708 - val_accuracy: 0.6669\n",
            "Epoch 4/50\n",
            "600/600 [==============================] - ETA: 0s - loss: 1.1195 - accuracy: 0.6205\n",
            "Epoch 4: val_loss improved from 1.07078 to 0.98315, saving model to checkpointed_model1_Task2.hdf5\n",
            "600/600 [==============================] - 20s 33ms/step - loss: 1.1195 - accuracy: 0.6205 - val_loss: 0.9832 - val_accuracy: 0.6842\n",
            "Epoch 5/50\n",
            "599/600 [============================>.] - ETA: 0s - loss: 1.0352 - accuracy: 0.6437\n",
            "Epoch 5: val_loss improved from 0.98315 to 0.91569, saving model to checkpointed_model1_Task2.hdf5\n",
            "600/600 [==============================] - 18s 30ms/step - loss: 1.0347 - accuracy: 0.6441 - val_loss: 0.9157 - val_accuracy: 0.7131\n",
            "Epoch 6/50\n",
            "600/600 [==============================] - ETA: 0s - loss: 0.9846 - accuracy: 0.6576\n",
            "Epoch 6: val_loss improved from 0.91569 to 0.87193, saving model to checkpointed_model1_Task2.hdf5\n",
            "600/600 [==============================] - 19s 32ms/step - loss: 0.9846 - accuracy: 0.6576 - val_loss: 0.8719 - val_accuracy: 0.7171\n",
            "Epoch 7/50\n",
            "598/600 [============================>.] - ETA: 0s - loss: 0.9396 - accuracy: 0.6775\n",
            "Epoch 7: val_loss improved from 0.87193 to 0.83881, saving model to checkpointed_model1_Task2.hdf5\n",
            "600/600 [==============================] - 19s 31ms/step - loss: 0.9394 - accuracy: 0.6776 - val_loss: 0.8388 - val_accuracy: 0.7287\n",
            "Epoch 8/50\n",
            "599/600 [============================>.] - ETA: 0s - loss: 0.9079 - accuracy: 0.6845\n",
            "Epoch 8: val_loss improved from 0.83881 to 0.81827, saving model to checkpointed_model1_Task2.hdf5\n",
            "600/600 [==============================] - 18s 30ms/step - loss: 0.9079 - accuracy: 0.6844 - val_loss: 0.8183 - val_accuracy: 0.7377\n",
            "Epoch 9/50\n",
            "598/600 [============================>.] - ETA: 0s - loss: 0.8799 - accuracy: 0.6928\n",
            "Epoch 9: val_loss improved from 0.81827 to 0.79211, saving model to checkpointed_model1_Task2.hdf5\n",
            "600/600 [==============================] - 20s 33ms/step - loss: 0.8799 - accuracy: 0.6928 - val_loss: 0.7921 - val_accuracy: 0.7437\n",
            "Epoch 10/50\n",
            "600/600 [==============================] - ETA: 0s - loss: 0.8580 - accuracy: 0.7027\n",
            "Epoch 10: val_loss improved from 0.79211 to 0.76809, saving model to checkpointed_model1_Task2.hdf5\n",
            "600/600 [==============================] - 19s 31ms/step - loss: 0.8580 - accuracy: 0.7027 - val_loss: 0.7681 - val_accuracy: 0.7462\n",
            "Epoch 11/50\n",
            "600/600 [==============================] - ETA: 0s - loss: 0.8349 - accuracy: 0.7142\n",
            "Epoch 11: val_loss improved from 0.76809 to 0.75296, saving model to checkpointed_model1_Task2.hdf5\n",
            "600/600 [==============================] - 20s 32ms/step - loss: 0.8349 - accuracy: 0.7142 - val_loss: 0.7530 - val_accuracy: 0.7492\n",
            "Epoch 12/50\n",
            "599/600 [============================>.] - ETA: 0s - loss: 0.8197 - accuracy: 0.7178\n",
            "Epoch 12: val_loss improved from 0.75296 to 0.73721, saving model to checkpointed_model1_Task2.hdf5\n",
            "600/600 [==============================] - 18s 30ms/step - loss: 0.8205 - accuracy: 0.7174 - val_loss: 0.7372 - val_accuracy: 0.7552\n",
            "Epoch 13/50\n",
            "599/600 [============================>.] - ETA: 0s - loss: 0.8202 - accuracy: 0.7150\n",
            "Epoch 13: val_loss improved from 0.73721 to 0.73183, saving model to checkpointed_model1_Task2.hdf5\n",
            "600/600 [==============================] - 18s 31ms/step - loss: 0.8205 - accuracy: 0.7149 - val_loss: 0.7318 - val_accuracy: 0.7565\n",
            "Epoch 14/50\n",
            "599/600 [============================>.] - ETA: 0s - loss: 0.8000 - accuracy: 0.7237\n",
            "Epoch 14: val_loss improved from 0.73183 to 0.72230, saving model to checkpointed_model1_Task2.hdf5\n",
            "600/600 [==============================] - 18s 30ms/step - loss: 0.8003 - accuracy: 0.7235 - val_loss: 0.7223 - val_accuracy: 0.7598\n",
            "Epoch 15/50\n",
            "599/600 [============================>.] - ETA: 0s - loss: 0.7936 - accuracy: 0.7288\n",
            "Epoch 15: val_loss improved from 0.72230 to 0.70906, saving model to checkpointed_model1_Task2.hdf5\n",
            "600/600 [==============================] - 18s 29ms/step - loss: 0.7936 - accuracy: 0.7287 - val_loss: 0.7091 - val_accuracy: 0.7617\n",
            "Epoch 16/50\n",
            "599/600 [============================>.] - ETA: 0s - loss: 0.7667 - accuracy: 0.7337\n",
            "Epoch 16: val_loss improved from 0.70906 to 0.70489, saving model to checkpointed_model1_Task2.hdf5\n",
            "600/600 [==============================] - 20s 33ms/step - loss: 0.7665 - accuracy: 0.7337 - val_loss: 0.7049 - val_accuracy: 0.7619\n",
            "Epoch 17/50\n",
            "600/600 [==============================] - ETA: 0s - loss: 0.7530 - accuracy: 0.7387\n",
            "Epoch 17: val_loss improved from 0.70489 to 0.68751, saving model to checkpointed_model1_Task2.hdf5\n",
            "600/600 [==============================] - 18s 31ms/step - loss: 0.7530 - accuracy: 0.7387 - val_loss: 0.6875 - val_accuracy: 0.7677\n",
            "Epoch 18/50\n",
            "599/600 [============================>.] - ETA: 0s - loss: 0.7484 - accuracy: 0.7406\n",
            "Epoch 18: val_loss improved from 0.68751 to 0.67720, saving model to checkpointed_model1_Task2.hdf5\n",
            "600/600 [==============================] - 19s 31ms/step - loss: 0.7490 - accuracy: 0.7403 - val_loss: 0.6772 - val_accuracy: 0.7696\n",
            "Epoch 19/50\n",
            "600/600 [==============================] - ETA: 0s - loss: 0.7418 - accuracy: 0.7419\n",
            "Epoch 19: val_loss improved from 0.67720 to 0.67570, saving model to checkpointed_model1_Task2.hdf5\n",
            "600/600 [==============================] - 19s 32ms/step - loss: 0.7418 - accuracy: 0.7419 - val_loss: 0.6757 - val_accuracy: 0.7700\n",
            "Epoch 20/50\n",
            "599/600 [============================>.] - ETA: 0s - loss: 0.7383 - accuracy: 0.7462\n",
            "Epoch 20: val_loss improved from 0.67570 to 0.66736, saving model to checkpointed_model1_Task2.hdf5\n",
            "600/600 [==============================] - 20s 32ms/step - loss: 0.7382 - accuracy: 0.7461 - val_loss: 0.6674 - val_accuracy: 0.7729\n",
            "Epoch 21/50\n",
            "598/600 [============================>.] - ETA: 0s - loss: 0.7143 - accuracy: 0.7523\n",
            "Epoch 21: val_loss improved from 0.66736 to 0.66107, saving model to checkpointed_model1_Task2.hdf5\n",
            "600/600 [==============================] - 20s 33ms/step - loss: 0.7139 - accuracy: 0.7525 - val_loss: 0.6611 - val_accuracy: 0.7788\n",
            "Epoch 22/50\n",
            "600/600 [==============================] - ETA: 0s - loss: 0.7161 - accuracy: 0.7530\n",
            "Epoch 22: val_loss did not improve from 0.66107\n",
            "600/600 [==============================] - 20s 33ms/step - loss: 0.7161 - accuracy: 0.7530 - val_loss: 0.6622 - val_accuracy: 0.7731\n",
            "Epoch 23/50\n",
            "600/600 [==============================] - ETA: 0s - loss: 0.7140 - accuracy: 0.7539\n",
            "Epoch 23: val_loss improved from 0.66107 to 0.64987, saving model to checkpointed_model1_Task2.hdf5\n",
            "600/600 [==============================] - 19s 31ms/step - loss: 0.7140 - accuracy: 0.7539 - val_loss: 0.6499 - val_accuracy: 0.7804\n",
            "Epoch 24/50\n",
            "600/600 [==============================] - ETA: 0s - loss: 0.7119 - accuracy: 0.7523\n",
            "Epoch 24: val_loss improved from 0.64987 to 0.64582, saving model to checkpointed_model1_Task2.hdf5\n",
            "600/600 [==============================] - 20s 33ms/step - loss: 0.7119 - accuracy: 0.7523 - val_loss: 0.6458 - val_accuracy: 0.7815\n",
            "Epoch 25/50\n",
            "600/600 [==============================] - ETA: 0s - loss: 0.7005 - accuracy: 0.7597\n",
            "Epoch 25: val_loss improved from 0.64582 to 0.64024, saving model to checkpointed_model1_Task2.hdf5\n",
            "600/600 [==============================] - 19s 32ms/step - loss: 0.7005 - accuracy: 0.7597 - val_loss: 0.6402 - val_accuracy: 0.7835\n",
            "Epoch 26/50\n",
            "598/600 [============================>.] - ETA: 0s - loss: 0.6885 - accuracy: 0.7614\n",
            "Epoch 26: val_loss improved from 0.64024 to 0.63512, saving model to checkpointed_model1_Task2.hdf5\n",
            "600/600 [==============================] - 20s 32ms/step - loss: 0.6882 - accuracy: 0.7618 - val_loss: 0.6351 - val_accuracy: 0.7869\n",
            "Epoch 27/50\n",
            "599/600 [============================>.] - ETA: 0s - loss: 0.6734 - accuracy: 0.7658\n",
            "Epoch 27: val_loss improved from 0.63512 to 0.63397, saving model to checkpointed_model1_Task2.hdf5\n",
            "600/600 [==============================] - 24s 40ms/step - loss: 0.6730 - accuracy: 0.7659 - val_loss: 0.6340 - val_accuracy: 0.7867\n",
            "Epoch 28/50\n",
            "600/600 [==============================] - ETA: 0s - loss: 0.6833 - accuracy: 0.7628\n",
            "Epoch 28: val_loss improved from 0.63397 to 0.62919, saving model to checkpointed_model1_Task2.hdf5\n",
            "600/600 [==============================] - 19s 32ms/step - loss: 0.6833 - accuracy: 0.7628 - val_loss: 0.6292 - val_accuracy: 0.7894\n",
            "Epoch 29/50\n",
            "600/600 [==============================] - ETA: 0s - loss: 0.6777 - accuracy: 0.7611\n",
            "Epoch 29: val_loss improved from 0.62919 to 0.62150, saving model to checkpointed_model1_Task2.hdf5\n",
            "600/600 [==============================] - 19s 32ms/step - loss: 0.6777 - accuracy: 0.7611 - val_loss: 0.6215 - val_accuracy: 0.7917\n",
            "Epoch 30/50\n",
            "600/600 [==============================] - ETA: 0s - loss: 0.6565 - accuracy: 0.7730\n",
            "Epoch 30: val_loss improved from 0.62150 to 0.61947, saving model to checkpointed_model1_Task2.hdf5\n",
            "600/600 [==============================] - 19s 31ms/step - loss: 0.6565 - accuracy: 0.7730 - val_loss: 0.6195 - val_accuracy: 0.7910\n",
            "Epoch 31/50\n",
            "600/600 [==============================] - ETA: 0s - loss: 0.6723 - accuracy: 0.7643\n",
            "Epoch 31: val_loss improved from 0.61947 to 0.61844, saving model to checkpointed_model1_Task2.hdf5\n",
            "600/600 [==============================] - 21s 34ms/step - loss: 0.6723 - accuracy: 0.7643 - val_loss: 0.6184 - val_accuracy: 0.7935\n",
            "Epoch 32/50\n",
            "600/600 [==============================] - ETA: 0s - loss: 0.6649 - accuracy: 0.7685\n",
            "Epoch 32: val_loss improved from 0.61844 to 0.61310, saving model to checkpointed_model1_Task2.hdf5\n",
            "600/600 [==============================] - 19s 32ms/step - loss: 0.6649 - accuracy: 0.7685 - val_loss: 0.6131 - val_accuracy: 0.7940\n",
            "Epoch 33/50\n",
            "600/600 [==============================] - ETA: 0s - loss: 0.6462 - accuracy: 0.7769\n",
            "Epoch 33: val_loss did not improve from 0.61310\n",
            "600/600 [==============================] - 19s 32ms/step - loss: 0.6462 - accuracy: 0.7769 - val_loss: 0.6147 - val_accuracy: 0.7948\n",
            "Epoch 34/50\n",
            "600/600 [==============================] - ETA: 0s - loss: 0.6614 - accuracy: 0.7683\n",
            "Epoch 34: val_loss improved from 0.61310 to 0.60490, saving model to checkpointed_model1_Task2.hdf5\n",
            "600/600 [==============================] - 20s 33ms/step - loss: 0.6614 - accuracy: 0.7683 - val_loss: 0.6049 - val_accuracy: 0.7975\n",
            "Epoch 35/50\n",
            "600/600 [==============================] - ETA: 0s - loss: 0.6383 - accuracy: 0.7788\n",
            "Epoch 35: val_loss improved from 0.60490 to 0.59695, saving model to checkpointed_model1_Task2.hdf5\n",
            "600/600 [==============================] - 19s 32ms/step - loss: 0.6383 - accuracy: 0.7788 - val_loss: 0.5969 - val_accuracy: 0.8015\n",
            "Epoch 36/50\n",
            "599/600 [============================>.] - ETA: 0s - loss: 0.6354 - accuracy: 0.7810\n",
            "Epoch 36: val_loss did not improve from 0.59695\n",
            "600/600 [==============================] - 19s 32ms/step - loss: 0.6355 - accuracy: 0.7807 - val_loss: 0.5974 - val_accuracy: 0.8002\n",
            "Epoch 37/50\n",
            "599/600 [============================>.] - ETA: 0s - loss: 0.6354 - accuracy: 0.7775\n",
            "Epoch 37: val_loss improved from 0.59695 to 0.59624, saving model to checkpointed_model1_Task2.hdf5\n",
            "600/600 [==============================] - 20s 33ms/step - loss: 0.6356 - accuracy: 0.7775 - val_loss: 0.5962 - val_accuracy: 0.7985\n",
            "Epoch 38/50\n",
            "600/600 [==============================] - ETA: 0s - loss: 0.6315 - accuracy: 0.7885\n",
            "Epoch 38: val_loss improved from 0.59624 to 0.59510, saving model to checkpointed_model1_Task2.hdf5\n",
            "600/600 [==============================] - 19s 31ms/step - loss: 0.6315 - accuracy: 0.7885 - val_loss: 0.5951 - val_accuracy: 0.7994\n",
            "Epoch 39/50\n",
            "599/600 [============================>.] - ETA: 0s - loss: 0.6266 - accuracy: 0.7811\n",
            "Epoch 39: val_loss improved from 0.59510 to 0.58211, saving model to checkpointed_model1_Task2.hdf5\n",
            "600/600 [==============================] - 19s 32ms/step - loss: 0.6268 - accuracy: 0.7810 - val_loss: 0.5821 - val_accuracy: 0.8058\n",
            "Epoch 40/50\n",
            "600/600 [==============================] - ETA: 0s - loss: 0.6228 - accuracy: 0.7833\n",
            "Epoch 40: val_loss did not improve from 0.58211\n",
            "600/600 [==============================] - 19s 32ms/step - loss: 0.6228 - accuracy: 0.7833 - val_loss: 0.5844 - val_accuracy: 0.8058\n",
            "Epoch 41/50\n",
            "598/600 [============================>.] - ETA: 0s - loss: 0.6384 - accuracy: 0.7785\n",
            "Epoch 41: val_loss did not improve from 0.58211\n",
            "600/600 [==============================] - 19s 31ms/step - loss: 0.6379 - accuracy: 0.7786 - val_loss: 0.5849 - val_accuracy: 0.8058\n",
            "Epoch 42/50\n",
            "600/600 [==============================] - ETA: 0s - loss: 0.6151 - accuracy: 0.7898\n",
            "Epoch 42: val_loss improved from 0.58211 to 0.57985, saving model to checkpointed_model1_Task2.hdf5\n",
            "600/600 [==============================] - 21s 34ms/step - loss: 0.6151 - accuracy: 0.7898 - val_loss: 0.5799 - val_accuracy: 0.8071\n",
            "Epoch 43/50\n",
            "600/600 [==============================] - ETA: 0s - loss: 0.6117 - accuracy: 0.7904\n",
            "Epoch 43: val_loss did not improve from 0.57985\n",
            "600/600 [==============================] - 20s 34ms/step - loss: 0.6117 - accuracy: 0.7904 - val_loss: 0.5828 - val_accuracy: 0.8054\n",
            "Epoch 44/50\n",
            "599/600 [============================>.] - ETA: 0s - loss: 0.6115 - accuracy: 0.7915\n",
            "Epoch 44: val_loss improved from 0.57985 to 0.57897, saving model to checkpointed_model1_Task2.hdf5\n",
            "600/600 [==============================] - 20s 33ms/step - loss: 0.6119 - accuracy: 0.7914 - val_loss: 0.5790 - val_accuracy: 0.8083\n",
            "Epoch 45/50\n",
            "599/600 [============================>.] - ETA: 0s - loss: 0.6185 - accuracy: 0.7831\n",
            "Epoch 45: val_loss improved from 0.57897 to 0.57396, saving model to checkpointed_model1_Task2.hdf5\n",
            "600/600 [==============================] - 26s 43ms/step - loss: 0.6179 - accuracy: 0.7834 - val_loss: 0.5740 - val_accuracy: 0.8098\n",
            "Epoch 46/50\n",
            "600/600 [==============================] - ETA: 0s - loss: 0.6067 - accuracy: 0.7909\n",
            "Epoch 46: val_loss improved from 0.57396 to 0.57116, saving model to checkpointed_model1_Task2.hdf5\n",
            "600/600 [==============================] - 20s 33ms/step - loss: 0.6067 - accuracy: 0.7909 - val_loss: 0.5712 - val_accuracy: 0.8096\n",
            "Epoch 47/50\n",
            "599/600 [============================>.] - ETA: 0s - loss: 0.6177 - accuracy: 0.7872\n",
            "Epoch 47: val_loss improved from 0.57116 to 0.57108, saving model to checkpointed_model1_Task2.hdf5\n",
            "600/600 [==============================] - 22s 36ms/step - loss: 0.6182 - accuracy: 0.7869 - val_loss: 0.5711 - val_accuracy: 0.8100\n",
            "Epoch 48/50\n",
            "599/600 [============================>.] - ETA: 0s - loss: 0.5948 - accuracy: 0.7944\n",
            "Epoch 48: val_loss improved from 0.57108 to 0.56921, saving model to checkpointed_model1_Task2.hdf5\n",
            "600/600 [==============================] - 20s 34ms/step - loss: 0.5946 - accuracy: 0.7946 - val_loss: 0.5692 - val_accuracy: 0.8106\n",
            "Epoch 49/50\n",
            "600/600 [==============================] - ETA: 0s - loss: 0.5886 - accuracy: 0.7932\n",
            "Epoch 49: val_loss improved from 0.56921 to 0.56525, saving model to checkpointed_model1_Task2.hdf5\n",
            "600/600 [==============================] - 20s 33ms/step - loss: 0.5886 - accuracy: 0.7932 - val_loss: 0.5652 - val_accuracy: 0.8108\n",
            "Epoch 50/50\n",
            "599/600 [============================>.] - ETA: 0s - loss: 0.5832 - accuracy: 0.7978\n",
            "Epoch 50: val_loss improved from 0.56525 to 0.56046, saving model to checkpointed_model1_Task2.hdf5\n",
            "600/600 [==============================] - 19s 32ms/step - loss: 0.5833 - accuracy: 0.7978 - val_loss: 0.5605 - val_accuracy: 0.8138\n"
          ]
        },
        {
          "data": {
            "image/png": "[encoded data removed]",
            "text/plain": [
              "<Figure size 640x480 with 1 Axes>"
            ]
          },
          "metadata": {},
          "output_type": "display_data"
        }
      ],
      "source": [
        "# set base model as non trainable\n",
        "VGG16_Model.trainable = False\n",
        "\n",
        "#initialize the model\n",
        "model = tf.keras.models.Sequential()\n",
        "model.add(VGG16_Model)\n",
        "\n",
        "# include full connected layers which are trainable\n",
        "model.add(tf.keras.layers.Flatten())\n",
        "model.add(tf.keras.layers.Dense(256, activation='relu'))  \n",
        "model.add(tf.keras.layers.Dropout(0.3))\n",
        "model.add(tf.keras.layers.Dense(no_of_classes, activation='softmax'))\n",
        "\n",
        "# Check Model \n",
        "print(VGG16_Model.summary())\n",
        "print(model.summary())\n",
        "model.compile(loss='sparse_categorical_crossentropy', optimizer=tf.keras.optimizers.RMSprop(learning_rate=1e-5), metrics=['accuracy'])\n",
        "\n",
        "# save checkpoints\n",
        "name= \"checkpointed_model1_Task2.hdf5\"\n",
        "checkpoint = tf.keras.callbacks.ModelCheckpoint(name, monitor=\"val_loss\", mode=\"min\", save_best_only=True, verbose=1)\n",
        "\n",
        "# save history\n",
        "H = model.fit(train_generator,epochs=NUM_EPOCHS, steps_per_epoch=len(trainX)/ batchSize, validation_data=(valX, valY), callbacks=[checkpoint])\n",
        "\n",
        "# plot results \n",
        "plot_results(H, NUM_EPOCHS)\n"
      ]
    },
    {
      "cell_type": "markdown",
      "metadata": {
        "id": "VENX0N2eLDC6"
      },
      "source": [
        "## Model 2"
      ]
    },
    {
      "cell_type": "code",
      "execution_count": null,
      "metadata": {
        "colab": {
          "base_uri": "https://localhost:8080/",
          "height": 1000
        },
        "id": "-FWzSDkqLMDc",
        "outputId": "c4a748d6-9986-4040-9887-3ab788c73766"
      },
      "outputs": [
        {
          "name": "stdout",
          "output_type": "stream",
          "text": [
            "Model: \"vgg16\"\n",
            "_________________________________________________________________\n",
            " Layer (type)                Output Shape              Param #   \n",
            "=================================================================\n",
            " input_2 (InputLayer)        [(None, 64, 64, 3)]       0         \n",
            "                                                                 \n",
            " block1_conv1 (Conv2D)       (None, 64, 64, 64)        1792      \n",
            "                                                                 \n",
            " block1_conv2 (Conv2D)       (None, 64, 64, 64)        36928     \n",
            "                                                                 \n",
            " block1_pool (MaxPooling2D)  (None, 32, 32, 64)        0         \n",
            "                                                                 \n",
            " block2_conv1 (Conv2D)       (None, 32, 32, 128)       73856     \n",
            "                                                                 \n",
            " block2_conv2 (Conv2D)       (None, 32, 32, 128)       147584    \n",
            "                                                                 \n",
            " block2_pool (MaxPooling2D)  (None, 16, 16, 128)       0         \n",
            "                                                                 \n",
            " block3_conv1 (Conv2D)       (None, 16, 16, 256)       295168    \n",
            "                                                                 \n",
            " block3_conv2 (Conv2D)       (None, 16, 16, 256)       590080    \n",
            "                                                                 \n",
            " block3_conv3 (Conv2D)       (None, 16, 16, 256)       590080    \n",
            "                                                                 \n",
            " block3_pool (MaxPooling2D)  (None, 8, 8, 256)         0         \n",
            "                                                                 \n",
            " block4_conv1 (Conv2D)       (None, 8, 8, 512)         1180160   \n",
            "                                                                 \n",
            " block4_conv2 (Conv2D)       (None, 8, 8, 512)         2359808   \n",
            "                                                                 \n",
            " block4_conv3 (Conv2D)       (None, 8, 8, 512)         2359808   \n",
            "                                                                 \n",
            " block4_pool (MaxPooling2D)  (None, 4, 4, 512)         0         \n",
            "                                                                 \n",
            " block5_conv1 (Conv2D)       (None, 4, 4, 512)         2359808   \n",
            "                                                                 \n",
            " block5_conv2 (Conv2D)       (None, 4, 4, 512)         2359808   \n",
            "                                                                 \n",
            " block5_conv3 (Conv2D)       (None, 4, 4, 512)         2359808   \n",
            "                                                                 \n",
            " block5_pool (MaxPooling2D)  (None, 2, 2, 512)         0         \n",
            "                                                                 \n",
            "=================================================================\n",
            "Total params: 14,714,688\n",
            "Trainable params: 7,079,424\n",
            "Non-trainable params: 7,635,264\n",
            "_________________________________________________________________\n",
            "None\n",
            "Model: \"sequential_15\"\n",
            "_________________________________________________________________\n",
            " Layer (type)                Output Shape              Param #   \n",
            "=================================================================\n",
            " vgg16 (Functional)          (None, 2, 2, 512)         14714688  \n",
            "                                                                 \n",
            " flatten_15 (Flatten)        (None, 2048)              0         \n",
            "                                                                 \n",
            " dense_30 (Dense)            (None, 256)               524544    \n",
            "                                                                 \n",
            " dropout_15 (Dropout)        (None, 256)               0         \n",
            "                                                                 \n",
            " dense_31 (Dense)            (None, 9)                 2313      \n",
            "                                                                 \n",
            "=================================================================\n",
            "Total params: 15,241,545\n",
            "Trainable params: 7,606,281\n",
            "Non-trainable params: 7,635,264\n",
            "_________________________________________________________________\n",
            "None\n",
            "\n",
            "Fine Tune Fully Connected Layer and Selected Convolutional Layers \n",
            "\n",
            "Epoch 1/50\n",
            "600/600 [==============================] - ETA: 0s - loss: 0.5534 - accuracy: 0.8076\n",
            "Epoch 1: val_loss improved from inf to 0.47110, saving model to checkpointed_model2_Task2.hdf5\n",
            "600/600 [==============================] - 23s 35ms/step - loss: 0.5534 - accuracy: 0.8076 - val_loss: 0.4711 - val_accuracy: 0.8419\n",
            "Epoch 2/50\n",
            "600/600 [==============================] - ETA: 0s - loss: 0.4732 - accuracy: 0.8357\n",
            "Epoch 2: val_loss improved from 0.47110 to 0.44001, saving model to checkpointed_model2_Task2.hdf5\n",
            "600/600 [==============================] - 21s 34ms/step - loss: 0.4732 - accuracy: 0.8357 - val_loss: 0.4400 - val_accuracy: 0.8504\n",
            "Epoch 3/50\n",
            "599/600 [============================>.] - ETA: 0s - loss: 0.4266 - accuracy: 0.8519\n",
            "Epoch 3: val_loss improved from 0.44001 to 0.34942, saving model to checkpointed_model2_Task2.hdf5\n",
            "600/600 [==============================] - 22s 37ms/step - loss: 0.4268 - accuracy: 0.8519 - val_loss: 0.3494 - val_accuracy: 0.8846\n",
            "Epoch 4/50\n",
            "600/600 [==============================] - ETA: 0s - loss: 0.4056 - accuracy: 0.8631\n",
            "Epoch 4: val_loss did not improve from 0.34942\n",
            "600/600 [==============================] - 21s 35ms/step - loss: 0.4056 - accuracy: 0.8631 - val_loss: 0.3834 - val_accuracy: 0.8742\n",
            "Epoch 5/50\n",
            "599/600 [============================>.] - ETA: 0s - loss: 0.3710 - accuracy: 0.8711\n",
            "Epoch 5: val_loss did not improve from 0.34942\n",
            "600/600 [==============================] - 20s 34ms/step - loss: 0.3708 - accuracy: 0.8712 - val_loss: 0.3616 - val_accuracy: 0.8794\n",
            "Epoch 6/50\n",
            "599/600 [============================>.] - ETA: 0s - loss: 0.3548 - accuracy: 0.8757\n",
            "Epoch 6: val_loss improved from 0.34942 to 0.32849, saving model to checkpointed_model2_Task2.hdf5\n",
            "600/600 [==============================] - 21s 35ms/step - loss: 0.3544 - accuracy: 0.8759 - val_loss: 0.3285 - val_accuracy: 0.8913\n",
            "Epoch 7/50\n",
            "600/600 [==============================] - ETA: 0s - loss: 0.3430 - accuracy: 0.8832\n",
            "Epoch 7: val_loss improved from 0.32849 to 0.32513, saving model to checkpointed_model2_Task2.hdf5\n",
            "600/600 [==============================] - 21s 35ms/step - loss: 0.3430 - accuracy: 0.8832 - val_loss: 0.3251 - val_accuracy: 0.8923\n",
            "Epoch 8/50\n",
            "600/600 [==============================] - ETA: 0s - loss: 0.3338 - accuracy: 0.8868\n",
            "Epoch 8: val_loss did not improve from 0.32513\n",
            "600/600 [==============================] - 20s 34ms/step - loss: 0.3338 - accuracy: 0.8868 - val_loss: 0.3382 - val_accuracy: 0.8908\n",
            "Epoch 9/50\n",
            "598/600 [============================>.] - ETA: 0s - loss: 0.3164 - accuracy: 0.8927\n",
            "Epoch 9: val_loss improved from 0.32513 to 0.31419, saving model to checkpointed_model2_Task2.hdf5\n",
            "600/600 [==============================] - 22s 37ms/step - loss: 0.3167 - accuracy: 0.8927 - val_loss: 0.3142 - val_accuracy: 0.8963\n",
            "Epoch 10/50\n",
            "600/600 [==============================] - ETA: 0s - loss: 0.3020 - accuracy: 0.8950\n",
            "Epoch 10: val_loss improved from 0.31419 to 0.29299, saving model to checkpointed_model2_Task2.hdf5\n",
            "600/600 [==============================] - 23s 39ms/step - loss: 0.3020 - accuracy: 0.8950 - val_loss: 0.2930 - val_accuracy: 0.9058\n",
            "Epoch 11/50\n",
            "600/600 [==============================] - ETA: 0s - loss: 0.3031 - accuracy: 0.8959\n",
            "Epoch 11: val_loss did not improve from 0.29299\n",
            "600/600 [==============================] - 22s 37ms/step - loss: 0.3031 - accuracy: 0.8959 - val_loss: 0.3174 - val_accuracy: 0.8979\n",
            "Epoch 12/50\n",
            "600/600 [==============================] - ETA: 0s - loss: 0.2933 - accuracy: 0.8983\n",
            "Epoch 12: val_loss did not improve from 0.29299\n",
            "600/600 [==============================] - 22s 36ms/step - loss: 0.2933 - accuracy: 0.8983 - val_loss: 0.3007 - val_accuracy: 0.9008\n",
            "Epoch 13/50\n",
            "599/600 [============================>.] - ETA: 0s - loss: 0.2829 - accuracy: 0.9034\n",
            "Epoch 13: val_loss did not improve from 0.29299\n",
            "600/600 [==============================] - 22s 36ms/step - loss: 0.2826 - accuracy: 0.9034 - val_loss: 0.3176 - val_accuracy: 0.8952\n",
            "Epoch 14/50\n",
            "599/600 [============================>.] - ETA: 0s - loss: 0.2826 - accuracy: 0.9054\n",
            "Epoch 14: val_loss did not improve from 0.29299\n",
            "600/600 [==============================] - 20s 34ms/step - loss: 0.2823 - accuracy: 0.9054 - val_loss: 0.3018 - val_accuracy: 0.8990\n",
            "Epoch 15/50\n",
            "599/600 [============================>.] - ETA: 0s - loss: 0.2845 - accuracy: 0.9034\n",
            "Epoch 15: val_loss did not improve from 0.29299\n",
            "600/600 [==============================] - 21s 35ms/step - loss: 0.2843 - accuracy: 0.9034 - val_loss: 0.3302 - val_accuracy: 0.8975\n",
            "Epoch 16/50\n",
            "599/600 [============================>.] - ETA: 0s - loss: 0.2677 - accuracy: 0.9090\n",
            "Epoch 16: val_loss did not improve from 0.29299\n",
            "600/600 [==============================] - 20s 34ms/step - loss: 0.2679 - accuracy: 0.9089 - val_loss: 0.3002 - val_accuracy: 0.9073\n",
            "Epoch 17/50\n",
            "600/600 [==============================] - ETA: 0s - loss: 0.2583 - accuracy: 0.9126\n",
            "Epoch 17: val_loss did not improve from 0.29299\n",
            "600/600 [==============================] - 20s 34ms/step - loss: 0.2583 - accuracy: 0.9126 - val_loss: 0.3300 - val_accuracy: 0.8994\n",
            "Epoch 18/50\n",
            "599/600 [============================>.] - ETA: 0s - loss: 0.2601 - accuracy: 0.9150\n",
            "Epoch 18: val_loss improved from 0.29299 to 0.26956, saving model to checkpointed_model2_Task2.hdf5\n",
            "600/600 [==============================] - 21s 34ms/step - loss: 0.2601 - accuracy: 0.9150 - val_loss: 0.2696 - val_accuracy: 0.9106\n",
            "Epoch 19/50\n",
            "599/600 [============================>.] - ETA: 0s - loss: 0.2525 - accuracy: 0.9139\n",
            "Epoch 19: val_loss did not improve from 0.26956\n",
            "600/600 [==============================] - 20s 33ms/step - loss: 0.2525 - accuracy: 0.9140 - val_loss: 0.3327 - val_accuracy: 0.8977\n",
            "Epoch 20/50\n",
            "599/600 [============================>.] - ETA: 0s - loss: 0.2501 - accuracy: 0.9161\n",
            "Epoch 20: val_loss did not improve from 0.26956\n",
            "600/600 [==============================] - 21s 35ms/step - loss: 0.2499 - accuracy: 0.9161 - val_loss: 0.2936 - val_accuracy: 0.9060\n",
            "Epoch 21/50\n",
            "600/600 [==============================] - ETA: 0s - loss: 0.2364 - accuracy: 0.9193\n",
            "Epoch 21: val_loss did not improve from 0.26956\n",
            "600/600 [==============================] - 21s 36ms/step - loss: 0.2364 - accuracy: 0.9193 - val_loss: 0.3151 - val_accuracy: 0.9010\n",
            "Epoch 22/50\n",
            "599/600 [============================>.] - ETA: 0s - loss: 0.2454 - accuracy: 0.9203\n",
            "Epoch 22: val_loss did not improve from 0.26956\n",
            "600/600 [==============================] - 20s 33ms/step - loss: 0.2452 - accuracy: 0.9203 - val_loss: 0.3076 - val_accuracy: 0.9013\n",
            "Epoch 23/50\n",
            "600/600 [==============================] - ETA: 0s - loss: 0.2383 - accuracy: 0.9186\n",
            "Epoch 23: val_loss did not improve from 0.26956\n",
            "600/600 [==============================] - 21s 35ms/step - loss: 0.2383 - accuracy: 0.9186 - val_loss: 0.2948 - val_accuracy: 0.9104\n",
            "Epoch 24/50\n",
            "600/600 [==============================] - ETA: 0s - loss: 0.2400 - accuracy: 0.9200\n",
            "Epoch 24: val_loss did not improve from 0.26956\n",
            "600/600 [==============================] - 21s 35ms/step - loss: 0.2400 - accuracy: 0.9200 - val_loss: 0.2987 - val_accuracy: 0.9077\n",
            "Epoch 25/50\n",
            "599/600 [============================>.] - ETA: 0s - loss: 0.2418 - accuracy: 0.9178\n",
            "Epoch 25: val_loss improved from 0.26956 to 0.24882, saving model to checkpointed_model2_Task2.hdf5\n",
            "600/600 [==============================] - 20s 34ms/step - loss: 0.2415 - accuracy: 0.9179 - val_loss: 0.2488 - val_accuracy: 0.9198\n",
            "Epoch 26/50\n",
            "599/600 [============================>.] - ETA: 0s - loss: 0.2267 - accuracy: 0.9254\n",
            "Epoch 26: val_loss did not improve from 0.24882\n",
            "600/600 [==============================] - 20s 34ms/step - loss: 0.2265 - accuracy: 0.9254 - val_loss: 0.3389 - val_accuracy: 0.9040\n",
            "Epoch 27/50\n",
            "600/600 [==============================] - ETA: 0s - loss: 0.2239 - accuracy: 0.9254\n",
            "Epoch 27: val_loss did not improve from 0.24882\n",
            "600/600 [==============================] - 20s 34ms/step - loss: 0.2239 - accuracy: 0.9254 - val_loss: 0.3241 - val_accuracy: 0.9033\n",
            "Epoch 28/50\n",
            "599/600 [============================>.] - ETA: 0s - loss: 0.2236 - accuracy: 0.9278\n",
            "Epoch 28: val_loss did not improve from 0.24882\n",
            "600/600 [==============================] - 20s 33ms/step - loss: 0.2240 - accuracy: 0.9277 - val_loss: 0.2840 - val_accuracy: 0.9125\n",
            "Epoch 29/50\n",
            "600/600 [==============================] - ETA: 0s - loss: 0.2290 - accuracy: 0.9244\n",
            "Epoch 29: val_loss did not improve from 0.24882\n",
            "600/600 [==============================] - 22s 36ms/step - loss: 0.2290 - accuracy: 0.9244 - val_loss: 0.2924 - val_accuracy: 0.9094\n",
            "Epoch 30/50\n",
            "600/600 [==============================] - ETA: 0s - loss: 0.2138 - accuracy: 0.9290\n",
            "Epoch 30: val_loss did not improve from 0.24882\n",
            "600/600 [==============================] - 20s 34ms/step - loss: 0.2138 - accuracy: 0.9290 - val_loss: 0.2528 - val_accuracy: 0.9198\n",
            "Epoch 31/50\n",
            "598/600 [============================>.] - ETA: 0s - loss: 0.2230 - accuracy: 0.9249\n",
            "Epoch 31: val_loss did not improve from 0.24882\n",
            "600/600 [==============================] - 21s 35ms/step - loss: 0.2233 - accuracy: 0.9247 - val_loss: 0.2994 - val_accuracy: 0.9085\n",
            "Epoch 32/50\n",
            "599/600 [============================>.] - ETA: 0s - loss: 0.2165 - accuracy: 0.9283\n",
            "Epoch 32: val_loss did not improve from 0.24882\n",
            "600/600 [==============================] - 22s 36ms/step - loss: 0.2173 - accuracy: 0.9282 - val_loss: 0.2699 - val_accuracy: 0.9115\n",
            "Epoch 33/50\n",
            "600/600 [==============================] - ETA: 0s - loss: 0.2190 - accuracy: 0.9293\n",
            "Epoch 33: val_loss did not improve from 0.24882\n",
            "600/600 [==============================] - 20s 34ms/step - loss: 0.2190 - accuracy: 0.9293 - val_loss: 0.2853 - val_accuracy: 0.9167\n",
            "Epoch 34/50\n",
            "600/600 [==============================] - ETA: 0s - loss: 0.2088 - accuracy: 0.9317\n",
            "Epoch 34: val_loss did not improve from 0.24882\n",
            "600/600 [==============================] - 23s 38ms/step - loss: 0.2088 - accuracy: 0.9317 - val_loss: 0.2890 - val_accuracy: 0.9119\n",
            "Epoch 35/50\n",
            "599/600 [============================>.] - ETA: 0s - loss: 0.2120 - accuracy: 0.9280\n",
            "Epoch 35: val_loss did not improve from 0.24882\n",
            "600/600 [==============================] - 21s 34ms/step - loss: 0.2119 - accuracy: 0.9279 - val_loss: 0.2853 - val_accuracy: 0.9160\n",
            "Epoch 36/50\n",
            "598/600 [============================>.] - ETA: 0s - loss: 0.2136 - accuracy: 0.9303\n",
            "Epoch 36: val_loss did not improve from 0.24882\n",
            "600/600 [==============================] - 20s 34ms/step - loss: 0.2135 - accuracy: 0.9302 - val_loss: 0.2781 - val_accuracy: 0.9190\n",
            "Epoch 37/50\n",
            "599/600 [============================>.] - ETA: 0s - loss: 0.2150 - accuracy: 0.9290\n",
            "Epoch 37: val_loss did not improve from 0.24882\n",
            "600/600 [==============================] - 21s 34ms/step - loss: 0.2149 - accuracy: 0.9292 - val_loss: 0.3169 - val_accuracy: 0.9046\n",
            "Epoch 38/50\n",
            "600/600 [==============================] - ETA: 0s - loss: 0.2061 - accuracy: 0.9310\n",
            "Epoch 38: val_loss did not improve from 0.24882\n",
            "600/600 [==============================] - 21s 36ms/step - loss: 0.2061 - accuracy: 0.9310 - val_loss: 0.2984 - val_accuracy: 0.9129\n",
            "Epoch 39/50\n",
            "599/600 [============================>.] - ETA: 0s - loss: 0.2045 - accuracy: 0.9316\n",
            "Epoch 39: val_loss did not improve from 0.24882\n",
            "600/600 [==============================] - 21s 35ms/step - loss: 0.2050 - accuracy: 0.9314 - val_loss: 0.2835 - val_accuracy: 0.9131\n",
            "Epoch 40/50\n",
            "600/600 [==============================] - ETA: 0s - loss: 0.2105 - accuracy: 0.9298\n",
            "Epoch 40: val_loss did not improve from 0.24882\n",
            "600/600 [==============================] - 21s 35ms/step - loss: 0.2105 - accuracy: 0.9298 - val_loss: 0.3444 - val_accuracy: 0.9050\n",
            "Epoch 41/50\n",
            "599/600 [============================>.] - ETA: 0s - loss: 0.2048 - accuracy: 0.9310\n",
            "Epoch 41: val_loss did not improve from 0.24882\n",
            "600/600 [==============================] - 21s 35ms/step - loss: 0.2050 - accuracy: 0.9309 - val_loss: 0.3179 - val_accuracy: 0.9094\n",
            "Epoch 42/50\n",
            "600/600 [==============================] - ETA: 0s - loss: 0.2079 - accuracy: 0.9311\n",
            "Epoch 42: val_loss did not improve from 0.24882\n",
            "600/600 [==============================] - 21s 35ms/step - loss: 0.2079 - accuracy: 0.9311 - val_loss: 0.3918 - val_accuracy: 0.8942\n",
            "Epoch 43/50\n",
            "600/600 [==============================] - ETA: 0s - loss: 0.2006 - accuracy: 0.9344\n",
            "Epoch 43: val_loss did not improve from 0.24882\n",
            "600/600 [==============================] - 20s 34ms/step - loss: 0.2006 - accuracy: 0.9344 - val_loss: 0.2628 - val_accuracy: 0.9208\n",
            "Epoch 44/50\n",
            "599/600 [============================>.] - ETA: 0s - loss: 0.2075 - accuracy: 0.9323\n",
            "Epoch 44: val_loss did not improve from 0.24882\n",
            "600/600 [==============================] - 21s 35ms/step - loss: 0.2073 - accuracy: 0.9324 - val_loss: 0.2800 - val_accuracy: 0.9165\n",
            "Epoch 45/50\n",
            "599/600 [============================>.] - ETA: 0s - loss: 0.1963 - accuracy: 0.9365\n",
            "Epoch 45: val_loss did not improve from 0.24882\n",
            "600/600 [==============================] - 22s 37ms/step - loss: 0.1963 - accuracy: 0.9365 - val_loss: 0.3111 - val_accuracy: 0.9090\n",
            "Epoch 46/50\n",
            "600/600 [==============================] - ETA: 0s - loss: 0.2059 - accuracy: 0.9312\n",
            "Epoch 46: val_loss did not improve from 0.24882\n",
            "600/600 [==============================] - 22s 36ms/step - loss: 0.2059 - accuracy: 0.9312 - val_loss: 0.2946 - val_accuracy: 0.9142\n",
            "Epoch 47/50\n",
            "599/600 [============================>.] - ETA: 0s - loss: 0.1936 - accuracy: 0.9323\n",
            "Epoch 47: val_loss did not improve from 0.24882\n",
            "600/600 [==============================] - 21s 35ms/step - loss: 0.1936 - accuracy: 0.9323 - val_loss: 0.3163 - val_accuracy: 0.9092\n",
            "Epoch 48/50\n",
            "599/600 [============================>.] - ETA: 0s - loss: 0.2079 - accuracy: 0.9317\n",
            "Epoch 48: val_loss did not improve from 0.24882\n",
            "600/600 [==============================] - 24s 40ms/step - loss: 0.2076 - accuracy: 0.9318 - val_loss: 0.2719 - val_accuracy: 0.9229\n",
            "Epoch 49/50\n",
            "600/600 [==============================] - ETA: 0s - loss: 0.1861 - accuracy: 0.9405\n",
            "Epoch 49: val_loss did not improve from 0.24882\n",
            "600/600 [==============================] - 26s 43ms/step - loss: 0.1861 - accuracy: 0.9405 - val_loss: 0.2976 - val_accuracy: 0.9246\n",
            "Epoch 50/50\n",
            "599/600 [============================>.] - ETA: 0s - loss: 0.1994 - accuracy: 0.9373\n",
            "Epoch 50: val_loss did not improve from 0.24882\n",
            "600/600 [==============================] - 22s 37ms/step - loss: 0.1994 - accuracy: 0.9373 - val_loss: 0.3206 - val_accuracy: 0.9090\n"
          ]
        },
        {
          "data": {
            "image/png": "[encoded data removed]",
            "text/plain": [
              "<Figure size 640x480 with 1 Axes>"
            ]
          },
          "metadata": {},
          "output_type": "display_data"
        }
      ],
      "source": [
        "# initialize the model\n",
        "model2 = tf.keras.models.Sequential()\n",
        "model2.add(VGG16_Model)\n",
        "\n",
        "# include full connected with single relu layers\n",
        "model2.add(tf.keras.layers.Flatten())\n",
        "model2.add(tf.keras.layers.Dense(256, activation='relu'))  \n",
        "model2.add(tf.keras.layers.Dropout(0.3))\n",
        "model2.add(tf.keras.layers.Dense(no_of_classes, activation='softmax'))\n",
        "\n",
        "# enable trainable layer\n",
        "VGG16_Model.trainable = True\n",
        "trainableFlag = False\n",
        "for layer in VGG16_Model.layers:\n",
        "  if layer.name == 'block5_conv1':\n",
        "    trainableFlag = True\n",
        "  layer.trainable = trainableFlag\n",
        "\n",
        "# check model\n",
        "print(VGG16_Model.summary())\n",
        "print(model2.summary())\n",
        "\n",
        "# save checkpoints\n",
        "name= \"checkpointed_model2_Task2.hdf5\"\n",
        "checkpoint = tf.keras.callbacks.ModelCheckpoint(name, monitor=\"val_loss\", mode=\"min\", save_best_only=True, verbose=1)\n",
        "\n",
        "# really small learning rate when model is trainable\n",
        "model.compile(loss='sparse_categorical_crossentropy', optimizer=tf.keras.optimizers.RMSprop(learning_rate=1e-5),metrics=['accuracy'])\n",
        "\n",
        "# save history\n",
        "print (\"\\nFine Tune Fully Connected Layer and Selected Convolutional Layers \\n\")\n",
        "H = model.fit(train_generator,epochs=NUM_EPOCHS, steps_per_epoch=len(trainX)/ batchSize, validation_data=(valX, valY), callbacks=[checkpoint])\n",
        "\n",
        "#plot results\n",
        "plot_results(H, NUM_EPOCHS)\n"
      ]
    },
    {
      "cell_type": "markdown",
      "metadata": {
        "id": "60-4rteKWDRp"
      },
      "source": [
        "## Model 3"
      ]
    },
    {
      "cell_type": "code",
      "execution_count": null,
      "metadata": {
        "colab": {
          "base_uri": "https://localhost:8080/",
          "height": 1000
        },
        "id": "mQ6bHszWWL3d",
        "outputId": "26f84371-2130-41ea-fd0c-d938c27b6d86"
      },
      "outputs": [
        {
          "name": "stdout",
          "output_type": "stream",
          "text": [
            "Model: \"vgg16\"\n",
            "_________________________________________________________________\n",
            " Layer (type)                Output Shape              Param #   \n",
            "=================================================================\n",
            " input_2 (InputLayer)        [(None, 64, 64, 3)]       0         \n",
            "                                                                 \n",
            " block1_conv1 (Conv2D)       (None, 64, 64, 64)        1792      \n",
            "                                                                 \n",
            " block1_conv2 (Conv2D)       (None, 64, 64, 64)        36928     \n",
            "                                                                 \n",
            " block1_pool (MaxPooling2D)  (None, 32, 32, 64)        0         \n",
            "                                                                 \n",
            " block2_conv1 (Conv2D)       (None, 32, 32, 128)       73856     \n",
            "                                                                 \n",
            " block2_conv2 (Conv2D)       (None, 32, 32, 128)       147584    \n",
            "                                                                 \n",
            " block2_pool (MaxPooling2D)  (None, 16, 16, 128)       0         \n",
            "                                                                 \n",
            " block3_conv1 (Conv2D)       (None, 16, 16, 256)       295168    \n",
            "                                                                 \n",
            " block3_conv2 (Conv2D)       (None, 16, 16, 256)       590080    \n",
            "                                                                 \n",
            " block3_conv3 (Conv2D)       (None, 16, 16, 256)       590080    \n",
            "                                                                 \n",
            " block3_pool (MaxPooling2D)  (None, 8, 8, 256)         0         \n",
            "                                                                 \n",
            " block4_conv1 (Conv2D)       (None, 8, 8, 512)         1180160   \n",
            "                                                                 \n",
            " block4_conv2 (Conv2D)       (None, 8, 8, 512)         2359808   \n",
            "                                                                 \n",
            " block4_conv3 (Conv2D)       (None, 8, 8, 512)         2359808   \n",
            "                                                                 \n",
            " block4_pool (MaxPooling2D)  (None, 4, 4, 512)         0         \n",
            "                                                                 \n",
            " block5_conv1 (Conv2D)       (None, 4, 4, 512)         2359808   \n",
            "                                                                 \n",
            " block5_conv2 (Conv2D)       (None, 4, 4, 512)         2359808   \n",
            "                                                                 \n",
            " block5_conv3 (Conv2D)       (None, 4, 4, 512)         2359808   \n",
            "                                                                 \n",
            " block5_pool (MaxPooling2D)  (None, 2, 2, 512)         0         \n",
            "                                                                 \n",
            "=================================================================\n",
            "Total params: 14,714,688\n",
            "Trainable params: 7,079,424\n",
            "Non-trainable params: 7,635,264\n",
            "_________________________________________________________________\n",
            "None\n",
            "Model: \"sequential_17\"\n",
            "_________________________________________________________________\n",
            " Layer (type)                Output Shape              Param #   \n",
            "=================================================================\n",
            " vgg16 (Functional)          (None, 2, 2, 512)         14714688  \n",
            "                                                                 \n",
            " flatten_17 (Flatten)        (None, 2048)              0         \n",
            "                                                                 \n",
            " dense_35 (Dense)            (None, 256)               524544    \n",
            "                                                                 \n",
            " dropout_18 (Dropout)        (None, 256)               0         \n",
            "                                                                 \n",
            " dense_36 (Dense)            (None, 128)               32896     \n",
            "                                                                 \n",
            " dropout_19 (Dropout)        (None, 128)               0         \n",
            "                                                                 \n",
            " dense_37 (Dense)            (None, 9)                 1161      \n",
            "                                                                 \n",
            "=================================================================\n",
            "Total params: 15,273,289\n",
            "Trainable params: 7,638,025\n",
            "Non-trainable params: 7,635,264\n",
            "_________________________________________________________________\n",
            "None\n",
            "\n",
            " Fine Tune Fully Connected Layer and Selected Convolutional Layers \n",
            "\n",
            "Epoch 1/50\n",
            "600/600 [==============================] - ETA: 0s - loss: 0.9649 - accuracy: 0.6790\n",
            "Epoch 1: val_loss improved from inf to 0.42486, saving model to checkpointed_model3_Task2.hdf5\n",
            "600/600 [==============================] - 25s 37ms/step - loss: 0.9649 - accuracy: 0.6790 - val_loss: 0.4249 - val_accuracy: 0.8627\n",
            "Epoch 2/50\n",
            "600/600 [==============================] - ETA: 0s - loss: 0.5063 - accuracy: 0.8379\n",
            "Epoch 2: val_loss improved from 0.42486 to 0.31913, saving model to checkpointed_model3_Task2.hdf5\n",
            "600/600 [==============================] - 23s 38ms/step - loss: 0.5063 - accuracy: 0.8379 - val_loss: 0.3191 - val_accuracy: 0.8965\n",
            "Epoch 3/50\n",
            "600/600 [==============================] - ETA: 0s - loss: 0.4293 - accuracy: 0.8667\n",
            "Epoch 3: val_loss did not improve from 0.31913\n",
            "600/600 [==============================] - 20s 34ms/step - loss: 0.4293 - accuracy: 0.8667 - val_loss: 0.3289 - val_accuracy: 0.8990\n",
            "Epoch 4/50\n",
            "599/600 [============================>.] - ETA: 0s - loss: 0.3788 - accuracy: 0.8836\n",
            "Epoch 4: val_loss improved from 0.31913 to 0.30979, saving model to checkpointed_model3_Task2.hdf5\n",
            "600/600 [==============================] - 21s 35ms/step - loss: 0.3784 - accuracy: 0.8836 - val_loss: 0.3098 - val_accuracy: 0.9052\n",
            "Epoch 5/50\n",
            "600/600 [==============================] - ETA: 0s - loss: 0.3683 - accuracy: 0.8847\n",
            "Epoch 5: val_loss did not improve from 0.30979\n",
            "600/600 [==============================] - 21s 35ms/step - loss: 0.3683 - accuracy: 0.8847 - val_loss: 0.3134 - val_accuracy: 0.9054\n",
            "Epoch 6/50\n",
            "599/600 [============================>.] - ETA: 0s - loss: 0.3405 - accuracy: 0.8941\n",
            "Epoch 6: val_loss did not improve from 0.30979\n",
            "600/600 [==============================] - 22s 37ms/step - loss: 0.3405 - accuracy: 0.8942 - val_loss: 0.3294 - val_accuracy: 0.8996\n",
            "Epoch 7/50\n",
            "600/600 [==============================] - ETA: 0s - loss: 0.3290 - accuracy: 0.8977\n",
            "Epoch 7: val_loss improved from 0.30979 to 0.30281, saving model to checkpointed_model3_Task2.hdf5\n",
            "600/600 [==============================] - 21s 36ms/step - loss: 0.3290 - accuracy: 0.8977 - val_loss: 0.3028 - val_accuracy: 0.9085\n",
            "Epoch 8/50\n",
            "600/600 [==============================] - ETA: 0s - loss: 0.3201 - accuracy: 0.8992\n",
            "Epoch 8: val_loss did not improve from 0.30281\n",
            "600/600 [==============================] - 21s 35ms/step - loss: 0.3201 - accuracy: 0.8992 - val_loss: 0.3315 - val_accuracy: 0.8954\n",
            "Epoch 9/50\n",
            "599/600 [============================>.] - ETA: 0s - loss: 0.2984 - accuracy: 0.9096\n",
            "Epoch 9: val_loss improved from 0.30281 to 0.29880, saving model to checkpointed_model3_Task2.hdf5\n",
            "600/600 [==============================] - 22s 36ms/step - loss: 0.2980 - accuracy: 0.9098 - val_loss: 0.2988 - val_accuracy: 0.9112\n",
            "Epoch 10/50\n",
            "599/600 [============================>.] - ETA: 0s - loss: 0.2953 - accuracy: 0.9093\n",
            "Epoch 10: val_loss improved from 0.29880 to 0.29161, saving model to checkpointed_model3_Task2.hdf5\n",
            "600/600 [==============================] - 20s 34ms/step - loss: 0.2952 - accuracy: 0.9094 - val_loss: 0.2916 - val_accuracy: 0.9140\n",
            "Epoch 11/50\n",
            "599/600 [============================>.] - ETA: 0s - loss: 0.2966 - accuracy: 0.9086\n",
            "Epoch 11: val_loss improved from 0.29161 to 0.27667, saving model to checkpointed_model3_Task2.hdf5\n",
            "600/600 [==============================] - 21s 36ms/step - loss: 0.2964 - accuracy: 0.9086 - val_loss: 0.2767 - val_accuracy: 0.9179\n",
            "Epoch 12/50\n",
            "599/600 [============================>.] - ETA: 0s - loss: 0.2788 - accuracy: 0.9134\n",
            "Epoch 12: val_loss did not improve from 0.27667\n",
            "600/600 [==============================] - 21s 35ms/step - loss: 0.2785 - accuracy: 0.9134 - val_loss: 0.3061 - val_accuracy: 0.9094\n",
            "Epoch 13/50\n",
            "600/600 [==============================] - ETA: 0s - loss: 0.2644 - accuracy: 0.9186\n",
            "Epoch 13: val_loss did not improve from 0.27667\n",
            "600/600 [==============================] - 21s 35ms/step - loss: 0.2644 - accuracy: 0.9186 - val_loss: 0.3083 - val_accuracy: 0.9131\n",
            "Epoch 14/50\n",
            "600/600 [==============================] - ETA: 0s - loss: 0.2802 - accuracy: 0.9129\n",
            "Epoch 14: val_loss did not improve from 0.27667\n",
            "600/600 [==============================] - 21s 34ms/step - loss: 0.2802 - accuracy: 0.9129 - val_loss: 0.2872 - val_accuracy: 0.9144\n",
            "Epoch 15/50\n",
            "600/600 [==============================] - ETA: 0s - loss: 0.2725 - accuracy: 0.9134\n",
            "Epoch 15: val_loss did not improve from 0.27667\n",
            "600/600 [==============================] - 20s 34ms/step - loss: 0.2725 - accuracy: 0.9134 - val_loss: 0.2960 - val_accuracy: 0.9146\n",
            "Epoch 16/50\n",
            "599/600 [============================>.] - ETA: 0s - loss: 0.2723 - accuracy: 0.9175\n",
            "Epoch 16: val_loss did not improve from 0.27667\n",
            "600/600 [==============================] - 22s 36ms/step - loss: 0.2719 - accuracy: 0.9176 - val_loss: 0.3218 - val_accuracy: 0.9094\n",
            "Epoch 17/50\n",
            "600/600 [==============================] - ETA: 0s - loss: 0.2694 - accuracy: 0.9169\n",
            "Epoch 17: val_loss did not improve from 0.27667\n",
            "600/600 [==============================] - 22s 37ms/step - loss: 0.2694 - accuracy: 0.9169 - val_loss: 0.3426 - val_accuracy: 0.9067\n",
            "Epoch 18/50\n",
            "600/600 [==============================] - ETA: 0s - loss: 0.2625 - accuracy: 0.9189\n",
            "Epoch 18: val_loss did not improve from 0.27667\n",
            "600/600 [==============================] - 21s 35ms/step - loss: 0.2625 - accuracy: 0.9189 - val_loss: 0.3062 - val_accuracy: 0.9152\n",
            "Epoch 19/50\n",
            "599/600 [============================>.] - ETA: 0s - loss: 0.2618 - accuracy: 0.9201\n",
            "Epoch 19: val_loss did not improve from 0.27667\n",
            "600/600 [==============================] - 21s 35ms/step - loss: 0.2615 - accuracy: 0.9202 - val_loss: 0.2898 - val_accuracy: 0.9194\n",
            "Epoch 20/50\n",
            "599/600 [============================>.] - ETA: 0s - loss: 0.2489 - accuracy: 0.9277\n",
            "Epoch 20: val_loss did not improve from 0.27667\n",
            "600/600 [==============================] - 21s 35ms/step - loss: 0.2491 - accuracy: 0.9277 - val_loss: 0.2846 - val_accuracy: 0.9185\n",
            "Epoch 21/50\n",
            "600/600 [==============================] - ETA: 0s - loss: 0.2486 - accuracy: 0.9253\n",
            "Epoch 21: val_loss did not improve from 0.27667\n",
            "600/600 [==============================] - 21s 35ms/step - loss: 0.2486 - accuracy: 0.9253 - val_loss: 0.2846 - val_accuracy: 0.9227\n",
            "Epoch 22/50\n",
            "599/600 [============================>.] - ETA: 0s - loss: 0.2311 - accuracy: 0.9330\n",
            "Epoch 22: val_loss did not improve from 0.27667\n",
            "600/600 [==============================] - 21s 35ms/step - loss: 0.2326 - accuracy: 0.9326 - val_loss: 0.2849 - val_accuracy: 0.9233\n",
            "Epoch 23/50\n",
            "600/600 [==============================] - ETA: 0s - loss: 0.2392 - accuracy: 0.9267\n",
            "Epoch 23: val_loss did not improve from 0.27667\n",
            "600/600 [==============================] - 21s 35ms/step - loss: 0.2392 - accuracy: 0.9267 - val_loss: 0.3447 - val_accuracy: 0.9087\n",
            "Epoch 24/50\n",
            "599/600 [============================>.] - ETA: 0s - loss: 0.2446 - accuracy: 0.9222\n",
            "Epoch 24: val_loss did not improve from 0.27667\n",
            "600/600 [==============================] - 21s 35ms/step - loss: 0.2445 - accuracy: 0.9222 - val_loss: 0.3535 - val_accuracy: 0.9081\n",
            "Epoch 25/50\n",
            "599/600 [============================>.] - ETA: 0s - loss: 0.2358 - accuracy: 0.9313\n",
            "Epoch 25: val_loss did not improve from 0.27667\n",
            "600/600 [==============================] - 22s 37ms/step - loss: 0.2359 - accuracy: 0.9312 - val_loss: 0.3094 - val_accuracy: 0.9179\n",
            "Epoch 26/50\n",
            "600/600 [==============================] - ETA: 0s - loss: 0.2424 - accuracy: 0.9258\n",
            "Epoch 26: val_loss did not improve from 0.27667\n",
            "600/600 [==============================] - 22s 36ms/step - loss: 0.2424 - accuracy: 0.9258 - val_loss: 0.2974 - val_accuracy: 0.9206\n",
            "Epoch 27/50\n",
            "600/600 [==============================] - ETA: 0s - loss: 0.2519 - accuracy: 0.9260\n",
            "Epoch 27: val_loss did not improve from 0.27667\n",
            "600/600 [==============================] - 20s 34ms/step - loss: 0.2519 - accuracy: 0.9260 - val_loss: 0.2794 - val_accuracy: 0.9242\n",
            "Epoch 28/50\n",
            "600/600 [==============================] - ETA: 0s - loss: 0.2297 - accuracy: 0.9304\n",
            "Epoch 28: val_loss did not improve from 0.27667\n",
            "600/600 [==============================] - 22s 37ms/step - loss: 0.2297 - accuracy: 0.9304 - val_loss: 0.3179 - val_accuracy: 0.9196\n",
            "Epoch 29/50\n",
            "599/600 [============================>.] - ETA: 0s - loss: 0.2316 - accuracy: 0.9305\n",
            "Epoch 29: val_loss did not improve from 0.27667\n",
            "600/600 [==============================] - 20s 34ms/step - loss: 0.2314 - accuracy: 0.9305 - val_loss: 0.3087 - val_accuracy: 0.9181\n",
            "Epoch 30/50\n",
            "600/600 [==============================] - ETA: 0s - loss: 0.2406 - accuracy: 0.9300\n",
            "Epoch 30: val_loss improved from 0.27667 to 0.27625, saving model to checkpointed_model3_Task2.hdf5\n",
            "600/600 [==============================] - 22s 36ms/step - loss: 0.2406 - accuracy: 0.9300 - val_loss: 0.2762 - val_accuracy: 0.9225\n",
            "Epoch 31/50\n",
            "600/600 [==============================] - ETA: 0s - loss: 0.2402 - accuracy: 0.9283\n",
            "Epoch 31: val_loss did not improve from 0.27625\n",
            "600/600 [==============================] - 21s 35ms/step - loss: 0.2402 - accuracy: 0.9283 - val_loss: 0.2961 - val_accuracy: 0.9198\n",
            "Epoch 32/50\n",
            "600/600 [==============================] - ETA: 0s - loss: 0.2254 - accuracy: 0.9352\n",
            "Epoch 32: val_loss did not improve from 0.27625\n",
            "600/600 [==============================] - 21s 35ms/step - loss: 0.2254 - accuracy: 0.9352 - val_loss: 0.3317 - val_accuracy: 0.9115\n",
            "Epoch 33/50\n",
            "600/600 [==============================] - ETA: 0s - loss: 0.2324 - accuracy: 0.9301\n",
            "Epoch 33: val_loss did not improve from 0.27625\n",
            "600/600 [==============================] - 21s 35ms/step - loss: 0.2324 - accuracy: 0.9301 - val_loss: 0.2941 - val_accuracy: 0.9244\n",
            "Epoch 34/50\n",
            "600/600 [==============================] - ETA: 0s - loss: 0.2315 - accuracy: 0.9328\n",
            "Epoch 34: val_loss did not improve from 0.27625\n",
            "600/600 [==============================] - 22s 37ms/step - loss: 0.2315 - accuracy: 0.9328 - val_loss: 0.3491 - val_accuracy: 0.9071\n",
            "Epoch 35/50\n",
            "600/600 [==============================] - ETA: 0s - loss: 0.2206 - accuracy: 0.9327\n",
            "Epoch 35: val_loss did not improve from 0.27625\n",
            "600/600 [==============================] - 22s 36ms/step - loss: 0.2206 - accuracy: 0.9327 - val_loss: 0.3480 - val_accuracy: 0.9094\n",
            "Epoch 36/50\n",
            "600/600 [==============================] - ETA: 0s - loss: 0.2293 - accuracy: 0.9310\n",
            "Epoch 36: val_loss did not improve from 0.27625\n",
            "600/600 [==============================] - 21s 35ms/step - loss: 0.2293 - accuracy: 0.9310 - val_loss: 0.3127 - val_accuracy: 0.9165\n",
            "Epoch 37/50\n",
            "599/600 [============================>.] - ETA: 0s - loss: 0.2341 - accuracy: 0.9308\n",
            "Epoch 37: val_loss did not improve from 0.27625\n",
            "600/600 [==============================] - 22s 37ms/step - loss: 0.2338 - accuracy: 0.9309 - val_loss: 0.3340 - val_accuracy: 0.9152\n",
            "Epoch 38/50\n",
            "600/600 [==============================] - ETA: 0s - loss: 0.2165 - accuracy: 0.9360\n",
            "Epoch 38: val_loss did not improve from 0.27625\n",
            "600/600 [==============================] - 23s 37ms/step - loss: 0.2165 - accuracy: 0.9360 - val_loss: 0.3282 - val_accuracy: 0.9190\n",
            "Epoch 39/50\n",
            "599/600 [============================>.] - ETA: 0s - loss: 0.2306 - accuracy: 0.9302\n",
            "Epoch 39: val_loss did not improve from 0.27625\n",
            "600/600 [==============================] - 20s 34ms/step - loss: 0.2307 - accuracy: 0.9301 - val_loss: 0.3227 - val_accuracy: 0.9165\n",
            "Epoch 40/50\n",
            "600/600 [==============================] - ETA: 0s - loss: 0.2154 - accuracy: 0.9327\n",
            "Epoch 40: val_loss improved from 0.27625 to 0.27535, saving model to checkpointed_model3_Task2.hdf5\n",
            "600/600 [==============================] - 22s 37ms/step - loss: 0.2154 - accuracy: 0.9327 - val_loss: 0.2753 - val_accuracy: 0.9287\n",
            "Epoch 41/50\n",
            "600/600 [==============================] - ETA: 0s - loss: 0.2242 - accuracy: 0.9334\n",
            "Epoch 41: val_loss did not improve from 0.27535\n",
            "600/600 [==============================] - 21s 35ms/step - loss: 0.2242 - accuracy: 0.9334 - val_loss: 0.3443 - val_accuracy: 0.9117\n",
            "Epoch 42/50\n",
            "599/600 [============================>.] - ETA: 0s - loss: 0.2098 - accuracy: 0.9399\n",
            "Epoch 42: val_loss did not improve from 0.27535\n",
            "600/600 [==============================] - 21s 34ms/step - loss: 0.2097 - accuracy: 0.9399 - val_loss: 0.3352 - val_accuracy: 0.9162\n",
            "Epoch 43/50\n",
            "600/600 [==============================] - ETA: 0s - loss: 0.2108 - accuracy: 0.9373\n",
            "Epoch 43: val_loss did not improve from 0.27535\n",
            "600/600 [==============================] - 22s 36ms/step - loss: 0.2108 - accuracy: 0.9373 - val_loss: 0.3386 - val_accuracy: 0.9112\n",
            "Epoch 44/50\n",
            "599/600 [============================>.] - ETA: 0s - loss: 0.2241 - accuracy: 0.9351\n",
            "Epoch 44: val_loss did not improve from 0.27535\n",
            "600/600 [==============================] - 22s 36ms/step - loss: 0.2244 - accuracy: 0.9350 - val_loss: 0.3084 - val_accuracy: 0.9223\n",
            "Epoch 45/50\n",
            "599/600 [============================>.] - ETA: 0s - loss: 0.2083 - accuracy: 0.9384\n",
            "Epoch 45: val_loss did not improve from 0.27535\n",
            "600/600 [==============================] - 23s 38ms/step - loss: 0.2082 - accuracy: 0.9384 - val_loss: 0.3240 - val_accuracy: 0.9250\n",
            "Epoch 46/50\n",
            "599/600 [============================>.] - ETA: 0s - loss: 0.2277 - accuracy: 0.9335\n",
            "Epoch 46: val_loss did not improve from 0.27535\n",
            "600/600 [==============================] - 22s 36ms/step - loss: 0.2285 - accuracy: 0.9333 - val_loss: 0.3105 - val_accuracy: 0.9192\n",
            "Epoch 47/50\n",
            "599/600 [============================>.] - ETA: 0s - loss: 0.2187 - accuracy: 0.9335\n",
            "Epoch 47: val_loss did not improve from 0.27535\n",
            "600/600 [==============================] - 21s 35ms/step - loss: 0.2188 - accuracy: 0.9334 - val_loss: 0.3966 - val_accuracy: 0.9033\n",
            "Epoch 48/50\n",
            "600/600 [==============================] - ETA: 0s - loss: 0.2066 - accuracy: 0.9383\n",
            "Epoch 48: val_loss did not improve from 0.27535\n",
            "600/600 [==============================] - 21s 34ms/step - loss: 0.2066 - accuracy: 0.9383 - val_loss: 0.3689 - val_accuracy: 0.9140\n",
            "Epoch 49/50\n",
            "600/600 [==============================] - ETA: 0s - loss: 0.2188 - accuracy: 0.9385\n",
            "Epoch 49: val_loss improved from 0.27535 to 0.27381, saving model to checkpointed_model3_Task2.hdf5\n",
            "600/600 [==============================] - 21s 35ms/step - loss: 0.2188 - accuracy: 0.9385 - val_loss: 0.2738 - val_accuracy: 0.9279\n",
            "Epoch 50/50\n",
            "599/600 [============================>.] - ETA: 0s - loss: 0.2224 - accuracy: 0.9365\n",
            "Epoch 50: val_loss did not improve from 0.27381\n",
            "600/600 [==============================] - 23s 38ms/step - loss: 0.2227 - accuracy: 0.9364 - val_loss: 0.3019 - val_accuracy: 0.9177\n"
          ]
        },
        {
          "data": {
            "image/png": "[encoded data removed]",
            "text/plain": [
              "<Figure size 640x480 with 1 Axes>"
            ]
          },
          "metadata": {},
          "output_type": "display_data"
        }
      ],
      "source": [
        "# Model 3\n",
        "model3 = tf.keras.models.Sequential()\n",
        "model3.add(VGG16_Model)\n",
        "\n",
        "# include full connected with 2 relu layers \n",
        "model3.add(tf.keras.layers.Flatten())\n",
        "model3.add(tf.keras.layers.Dense(256, activation='relu'))  \n",
        "model3.add(tf.keras.layers.Dropout(0.3))\n",
        "model3.add(tf.keras.layers.Dense(128, activation='relu'))  \n",
        "model3.add(tf.keras.layers.Dropout(0.3))\n",
        "model3.add(tf.keras.layers.Dense(no_of_classes, activation='softmax'))\n",
        "\n",
        "# enable trainable layer\n",
        "VGG16_Model.trainable = True\n",
        "trainableFlag = False\n",
        "for layer in VGG16_Model.layers:\n",
        "  if layer.name == 'block5_conv1':\n",
        "    trainableFlag = True\n",
        "  layer.trainable = trainableFlag\n",
        "\n",
        "# check model\n",
        "print(VGG16_Model.summary())\n",
        "print(model3.summary())\n",
        "\n",
        "# save checkpoints\n",
        "name= \"checkpointed_model3_Task2.hdf5\"\n",
        "checkpoint = tf.keras.callbacks.ModelCheckpoint(name, monitor=\"val_loss\", mode=\"min\", save_best_only=True, verbose=1)\n",
        "\n",
        "# really small learning rate when model is trainable\n",
        "model3.compile(loss='sparse_categorical_crossentropy', optimizer=tf.keras.optimizers.RMSprop(learning_rate=1e-5),metrics=['accuracy'])\n",
        "\n",
        "# save history\n",
        "print (\"\\n Fine Tune Fully Connected Layer and Selected Convolutional Layers \\n\")\n",
        "H = model3.fit(train_generator,epochs=NUM_EPOCHS, steps_per_epoch=len(trainX)/ batchSize, validation_data=(valX, valY), callbacks=[checkpoint])\n",
        "\n",
        "#plot results\n",
        "plot_results(H, NUM_EPOCHS)\n"
      ]
    },
    {
      "cell_type": "markdown",
      "metadata": {
        "id": "zazuynz2t07a"
      },
      "source": [
        "# Part 3 : Build a Basic Neural Network CNN Ensemble"
      ]
    },
    {
      "cell_type": "code",
      "execution_count": null,
      "metadata": {
        "colab": {
          "base_uri": "https://localhost:8080/"
        },
        "id": "baLOupy2t0aD",
        "outputId": "2f8d5f0b-d0b0-4960-9c64-a4c86f981d8b"
      },
      "outputs": [
        {
          "name": "stdout",
          "output_type": "stream",
          "text": [
            "150/150 [==============================] - 2s 14ms/step\n",
            "150/150 [==============================] - 2s 14ms/step\n",
            "150/150 [==============================] - 2s 14ms/step\n",
            "Ensemble Accuracy: 0.905\n"
          ]
        }
      ],
      "source": [
        "# Make predictions on validation set\n",
        "pred = model.predict(valX)\n",
        "pred1 = model2.predict(valX)\n",
        "pred2 = model3.predict(valX)\n",
        "\n",
        "# Combine predictions through majority voting\n",
        "final_preds = np.argmax(np.sum([pred ,pred1, pred2], axis=0), axis=1)\n",
        "\n",
        "# Evaluate final predictions\n",
        "accuracy = np.mean(final_preds == valY)\n",
        "print(f'Ensemble Accuracy: {accuracy:.3f}' )\n"
      ]
    }
  ],
  "metadata": {
    "accelerator": "GPU",
    "colab": {
      "provenance": []
    },
    "kernelspec": {
      "display_name": "Python 3",
      "name": "python3"
    },
    "language_info": {
      "codemirror_mode": {
        "name": "ipython",
        "version": 3
      },
      "file_extension": ".py",
      "mimetype": "text/x-python",
      "name": "python",
      "nbconvert_exporter": "python",
      "pygments_lexer": "ipython3",
      "version": "3.10.7"
    }
  },
  "nbformat": 4,
  "nbformat_minor": 0
}
